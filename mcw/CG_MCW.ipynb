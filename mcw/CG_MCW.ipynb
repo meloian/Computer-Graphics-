{
 "cells": [
  {
   "cell_type": "markdown",
   "id": "75358bf5",
   "metadata": {},
   "source": [
    "# Модульна контрольна робота\n",
    "\n",
    "**Дисципліна**: *Комп'ютерна графіка*\n",
    "\n",
    "**Студент**: Мелоян Мирослав  \n",
    "**Група**: ФІ-21  \n",
    "**Варіант**: 14(5)\n",
    "\n",
    "## Завдання\n",
    "\n",
    "**Мета роботи**: Визначити фрактальну розмірність фрактала, що складається з тих точок відрізка [0; 1], в п'ятірковому представленні яких відсутні цифри 1, 2 та 4. Розробити програмне забезпечення для побудови даного фрактала. "
   ]
  },
  {
   "cell_type": "code",
   "execution_count": 1,
   "id": "c85d9d1d",
   "metadata": {},
   "outputs": [],
   "source": [
    "import numpy as np\n",
    "import matplotlib.pyplot as plt "
   ]
  },
  {
   "cell_type": "markdown",
   "id": "6b02c492",
   "metadata": {},
   "source": [
    "### Функція `is_valid(n, b)`\n",
    "Ця функція перевіряє, чи не містить число `n` у заданій системі числення `b` заборонені цифри 1, 2, або 4.\n",
    "\n",
    "**Параметри:**\n",
    "- `n`: Число для перевірки.\n",
    "- `b`: Основа системи числення, у якій ведеться перевірка.\n",
    "\n",
    "**Повертає:**\n",
    "- `True` або `False` залежно від того, чи задовольняє число умовам.\n",
    "\n",
    "### Функція `gen_nums(b, prec)`\n",
    "Створює список чисел без цифр 1, 2, 4 в їх представленні у системі з основою `b` до заданої точності `prec`. Ці числа використовуються для фракталів.\n",
    "\n",
    "**Параметри:**\n",
    "- `b`: Основа системи числення, в якій ведеться генерація.\n",
    "- `prec`: Точність або кількість знаків, які будуть генеруватися.\n",
    "\n",
    "**Повертає:**\n",
    "- Список чисел, які можна використовувати для побудови фракталів. "
   ]
  },
  {
   "cell_type": "code",
   "execution_count": 2,
   "id": "98cf3c0c",
   "metadata": {},
   "outputs": [],
   "source": [
    "def is_valid(n, b):\n",
    "    \"\"\" Перевірка числа на наявність цифр 1, 2, 4. \"\"\"\n",
    "    while n > 0:\n",
    "        d = n % b\n",
    "        if d in [1, 2, 4]:\n",
    "            return False\n",
    "        n //= b\n",
    "    return True\n",
    "\n",
    "def gen_nums(b, prec):\n",
    "    \"\"\" Генерація валідних чисел. \"\"\"\n",
    "    valids = []\n",
    "    total = b ** prec\n",
    "    for i in range(total):\n",
    "        if is_valid(i, b):\n",
    "            val = i / (b ** prec)\n",
    "            if is_valid(int(val * b ** prec), b):\n",
    "                valids.append(val)\n",
    "    return valids "
   ]
  },
  {
   "cell_type": "code",
   "execution_count": 3,
   "id": "5a1f1586",
   "metadata": {},
   "outputs": [
    {
     "name": "stdout",
     "output_type": "stream",
     "text": [
      "Перші 10 дробів: [0.0, 0.00096, 0.00576, 0.024, 0.02496, 0.0288, 0.02976, 0.12, 0.12096, 0.1248]\n"
     ]
    }
   ],
   "source": [
    "precision = 5\n",
    "fractions = gen_nums(5, precision)  \n",
    "print(\"Перші 10 дробів:\", fractions [:10])"
   ]
  },
  {
   "cell_type": "markdown",
   "id": "d330b34f",
   "metadata": {},
   "source": [
    "### Функція `dec_to_base(num, base)`\n",
    "Перетворює число `num` з десяткової системи в систему з основою `base`. "
   ]
  },
  {
   "cell_type": "code",
   "execution_count": 4,
   "id": "fef364e1",
   "metadata": {},
   "outputs": [],
   "source": [
    "def dec_to_base(num, base):\n",
    "    if num == 0:\n",
    "        return '0'\n",
    "    digs = []\n",
    "    while num:\n",
    "        digs.append(int(num % base))\n",
    "        num //= base\n",
    "    return ''.join(str(x) for x in reversed(digs))  "
   ]
  },
  {
   "cell_type": "code",
   "execution_count": 5,
   "id": "86b3d5bd",
   "metadata": {},
   "outputs": [
    {
     "name": "stdout",
     "output_type": "stream",
     "text": [
      "Decimal: 0.0, Base-5: 0\n",
      "Decimal: 0.00096, Base-5: 3\n",
      "Decimal: 0.00576, Base-5: 33\n",
      "Decimal: 0.024, Base-5: 300\n",
      "Decimal: 0.02496, Base-5: 303\n",
      "Decimal: 0.0288, Base-5: 330\n",
      "Decimal: 0.02976, Base-5: 333\n",
      "Decimal: 0.12, Base-5: 3000\n",
      "Decimal: 0.12096, Base-5: 3003\n",
      "Decimal: 0.1248, Base-5: 3030\n"
     ]
    }
   ],
   "source": [
    "for fraction in fractions[:10]:\n",
    "    base_5_representation = dec_to_base(int(fraction * 5**precision), 5)\n",
    "    print(f'Decimal: {fraction}, Base-5: {base_5_representation}') "
   ]
  },
  {
   "cell_type": "markdown",
   "id": "54bde979",
   "metadata": {},
   "source": [
    "### Функція `frac_dim(d, max_r=None, steps=100)`\n",
    "Обчислює фрактальну розмірність набору точок `d`. Для кожного радіуса з зазначеного діапазону (від 0.01 до `max_r` або до 0.5 за замовчуванням) рахує, скільки пар точок мають відстань меншу за цей радіус. Використовує логарифмічну регресію для визначення нахилу, який є фрактальною розмірністю.\n",
    "\n",
    "**Параметри:**\n",
    "- `d`: Масив точок для обчислення.\n",
    "- `max_r`: Максимальний радіус для визначення відстаней (стандартно 0.5).\n",
    "- `steps`: Кількість кроків для розрахунку, точність обчислень.\n",
    "\n",
    "**Повертає:**\n",
    "- Значення фрактальної розмірності, яке визначається як нахил регресійної лінії. "
   ]
  },
  {
   "cell_type": "code",
   "execution_count": 6,
   "id": "9b512513",
   "metadata": {},
   "outputs": [],
   "source": [
    "def frac_dim(d, max_r=None, steps=100):\n",
    "    d = np.array(d)\n",
    "    len_d = len(d)\n",
    "    \n",
    "    if max_r is None:\n",
    "        max_r = 0.5\n",
    "    \n",
    "    rs = np.linspace(0.01, max_r, steps)\n",
    "    cs = []\n",
    "    \n",
    "    for r in rs:\n",
    "        c = 0\n",
    "        for i in range(len_d):\n",
    "            for j in range(len_d):\n",
    "                if np.abs(d[i] - d[j]) < r:\n",
    "                    c += 1\n",
    "        cs.append(c / (len_d * (len_d - 1)))\n",
    "    \n",
    "    cs = np.array(cs)\n",
    "    log_r = np.log(rs)\n",
    "    log_c = np.log(cs)\n",
    "    \n",
    "    slope, _ = np.polyfit(log_r, log_c, 1)\n",
    "    return slope"
   ]
  },
  {
   "cell_type": "code",
   "execution_count": 7,
   "id": "cbd9293d",
   "metadata": {},
   "outputs": [
    {
     "name": "stdout",
     "output_type": "stream",
     "text": [
      "Фрактальна розмірність: 0.3603011303340974\n"
     ]
    }
   ],
   "source": [
    "dimension = frac_dim(fractions)\n",
    "print(\"Фрактальна розмірність:\", dimension) "
   ]
  },
  {
   "cell_type": "code",
   "execution_count": 8,
   "id": "d2fdb1e8",
   "metadata": {},
   "outputs": [
    {
     "data": {
      "image/png": "[encoded data removed]",
      "text/plain": [
       "<Figure size 1000x100 with 1 Axes>"
      ]
     },
     "metadata": {},
     "output_type": "display_data"
    }
   ],
   "source": [
    "def visualize_fractions(fractions):\n",
    "    \"\"\" Візуалізація точок фрактала. \"\"\"\n",
    "    plt.figure(figsize=(10, 1))\n",
    "    plt.scatter(fractions, [1] * len(fractions), marker='|', color='k')\n",
    "    plt.yticks([])\n",
    "    plt.title('Візуалізація фрактала')\n",
    "    plt.xlabel('Числа відрізка [0; 1]')\n",
    "    plt.show()\n",
    "\n",
    "visualize_fractions(fractions)"
   ]
  }
 ],
 "metadata": {
  "kernelspec": {
   "display_name": "Python 3 (ipykernel)",
   "language": "python",
   "name": "python3"
  },
  "language_info": {
   "codemirror_mode": {
    "name": "ipython",
    "version": 3
   },
   "file_extension": ".py",
   "mimetype": "text/x-python",
   "name": "python",
   "nbconvert_exporter": "python",
   "pygments_lexer": "ipython3",
   "version": "3.11.5"
  }
 },
 "nbformat": 4,
 "nbformat_minor": 5
}
